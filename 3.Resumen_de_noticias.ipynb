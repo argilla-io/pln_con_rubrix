{
 "cells": [
  {
   "cell_type": "markdown",
   "id": "5e34ab08-3474-49b9-ba05-0e867ea15f42",
   "metadata": {},
   "source": [
    "# **Caso práctico 3: Resúmenes automáticos**"
   ]
  },
  {
   "cell_type": "markdown",
   "id": "eed803c2-15f3-4a39-9a76-ded1b6dadbce",
   "metadata": {},
   "source": [
    "## Revisión de datos de entrenamiento"
   ]
  },
  {
   "cell_type": "code",
   "execution_count": 21,
   "id": "6c6df85b-5273-456f-8c4c-fd328298c376",
   "metadata": {},
   "outputs": [
    {
     "name": "stderr",
     "output_type": "stream",
     "text": [
      "Reusing dataset mlsum (/Users/dani/.cache/huggingface/datasets/mlsum/es/1.0.0/77f23eb185781f439927ac2569ab1da1083195d8b2dab2b2f6bbe52feb600688)\n"
     ]
    }
   ],
   "source": [
    "from datasets import load_dataset\n",
    "\n",
    "dataset = load_dataset(\"mlsum\", \"es\", split=\"train[10000:]\")"
   ]
  },
  {
   "cell_type": "code",
   "execution_count": 22,
   "id": "e4693a11-0ef4-401d-982f-091dcbe838cb",
   "metadata": {},
   "outputs": [
    {
     "data": {
      "text/plain": [
       "256367"
      ]
     },
     "execution_count": 22,
     "metadata": {},
     "output_type": "execute_result"
    }
   ],
   "source": [
    "records = [\n",
    "    rb.Text2TextRecord(\n",
    "        text=noticia[\"text\"],\n",
    "        annotation=noticia[\"summary\"],\n",
    "        metadata={\n",
    "            \"summary_len\": len(noticia[\"summary\"]), \n",
    "            \"text_len\": len(noticia[\"text\"])\n",
    "        }\n",
    "    )\n",
    "    for noticia in dataset\n",
    "] ; len(records)"
   ]
  },
  {
   "cell_type": "code",
   "execution_count": null,
   "id": "f60c156b-cfef-4af6-a9be-7cd746a90da3",
   "metadata": {},
   "outputs": [
    {
     "data": {
      "application/vnd.jupyter.widget-view+json": {
       "model_id": "9980cac33b534c86908800b4cca4eaeb",
       "version_major": 2,
       "version_minor": 0
      },
      "text/plain": [
       "HBox(children=(FloatProgress(value=0.0, max=100000.0), HTML(value='')))"
      ]
     },
     "metadata": {},
     "output_type": "display_data"
    }
   ],
   "source": [
    "rb.log(records[0:100000], name=\"noticias_en_es_resumenes\")"
   ]
  },
  {
   "cell_type": "markdown",
   "id": "ddc565fa-3cb1-4727-9079-7a6ab4ace0d1",
   "metadata": {},
   "source": [
    "## Anexo: Leer y guardar los tweets en probas"
   ]
  },
  {
   "cell_type": "code",
   "execution_count": null,
   "id": "09117c53-72a3-4aaa-9a84-5fc8a80e63c5",
   "metadata": {},
   "outputs": [],
   "source": [
    "!wget https://github.com/garnachod/TwitterSentimentDataset/raw/master/tweets_clean.txt\n",
    "!wget https://github.com/garnachod/TwitterSentimentDataset/raw/master/tweets_pos_clean.txt\n",
    "!wget https://github.com/garnachod/TwitterSentimentDataset/raw/master/tweets_neg_clean.txt"
   ]
  },
  {
   "cell_type": "code",
   "execution_count": null,
   "id": "9ea3b807-618a-4ff5-9e07-14c371a9bb8d",
   "metadata": {},
   "outputs": [],
   "source": [
    "df = pd.DataFrame({\"text\": []})\n",
    "for source in [\"tweets_pos_clean.txt\", \"tweets_neg_clean.txt\", \"tweets_clean.txt\"]:\n",
    "    with open(source, \"r\") as file:\n",
    "        tweets = file.readlines()\n",
    "        tweets = pd.DataFrame({\"text\": tweets})\n",
    "        tweets[\"source\"] = source\n",
    "        df = pd.concat([df, tweets])\n",
    "df.to_csv(\"tweets_en_es.csv\")"
   ]
  },
  {
   "cell_type": "code",
   "execution_count": null,
   "id": "a3fb8bba-9360-451c-8324-0e24325b032c",
   "metadata": {},
   "outputs": [],
   "source": [
    "dataset = rb.load(\"tuits_en_es\")"
   ]
  },
  {
   "cell_type": "code",
   "execution_count": null,
   "id": "cd8d4af3-40c3-4851-8a11-c7da62ff7904",
   "metadata": {},
   "outputs": [],
   "source": [
    "dataset.to_csv(\"tweets_en_es\")"
   ]
  },
  {
   "cell_type": "markdown",
   "id": "84fe3da9-e927-4530-90e3-9aed13465266",
   "metadata": {},
   "source": [
    "# Caso práctico 3: Lazaro"
   ]
  },
  {
   "cell_type": "code",
   "execution_count": null,
   "id": "1342043f-16c8-4395-9b3b-9d5317f7dccc",
   "metadata": {},
   "outputs": [],
   "source": [
    "df = pd.read_json(\"../tutorials/data/lazaro_training.jsonl\", orient=\"records\", lines=True)"
   ]
  },
  {
   "cell_type": "code",
   "execution_count": null,
   "id": "72e9a0ee-367c-440f-babe-a767ff668ad7",
   "metadata": {},
   "outputs": [],
   "source": [
    "df.head()"
   ]
  },
  {
   "cell_type": "code",
   "execution_count": null,
   "id": "4456f4b8-2da0-430d-955a-63a16c794ee6",
   "metadata": {},
   "outputs": [],
   "source": [
    "df.section.hist()"
   ]
  },
  {
   "cell_type": "markdown",
   "id": "9f316f0d-979a-4645-a353-a5b80299bee8",
   "metadata": {},
   "source": [
    "## Caso de uso 1: Anotación manual y revisión para NER "
   ]
  },
  {
   "cell_type": "code",
   "execution_count": null,
   "id": "a50394bd-e953-4e01-8d41-1277e2e82383",
   "metadata": {},
   "outputs": [],
   "source": [
    "recor"
   ]
  },
  {
   "cell_type": "markdown",
   "id": "80477726-3c72-49e7-9176-3e562e5313a8",
   "metadata": {},
   "source": [
    "## Caso de uso 2: Pre-anotación y evaluación con un clasificador zero-shot"
   ]
  },
  {
   "cell_type": "code",
   "execution_count": null,
   "id": "d97c3e2f-93c1-4ee9-9304-33b66624df47",
   "metadata": {},
   "outputs": [],
   "source": [
    "from transformers import pipeline\n",
    "from datasets import Dataset, load_dataset\n",
    "\n",
    "import rubrix as rb\n",
    "\n",
    "\n",
    "#dataset = Dataset.from_csv(\"your_dataset.csv\")\n",
    "dataset = load_dataset(\"ag_news\", split=\"test[0:10]\")\n",
    "nlp = pipeline(\"sentiment-analysis\")\n",
    "nlp = rb.monitor(task_model=nlp, dataset=\"nlp_monitoring\")\n"
   ]
  },
  {
   "cell_type": "code",
   "execution_count": null,
   "id": "e174be65-0b83-4640-9d07-16a3ab3b8aed",
   "metadata": {},
   "outputs": [],
   "source": [
    "dataset.map(lambda example: {\"prediction\": nlp(example[\"text\"])})"
   ]
  },
  {
   "cell_type": "markdown",
   "id": "161855b8-37ab-45bf-95c7-11ce4e9b4801",
   "metadata": {},
   "source": [
    "## Material presentación"
   ]
  },
  {
   "cell_type": "code",
   "execution_count": null,
   "id": "7d253ead-d4aa-4f3d-bb25-7cdd099ebb87",
   "metadata": {},
   "outputs": [],
   "source": [
    "import rubrix as rb"
   ]
  },
  {
   "cell_type": "code",
   "execution_count": null,
   "id": "81ca2d57-210c-4c2f-b135-9892aecf9896",
   "metadata": {},
   "outputs": [],
   "source": [
    "texto = \"Rubrix, herramienta Python desarrollada por Recognai, es el resultado de casi 5 años desarrollando soluciones de PLN para empresas, contribuyendo a librerías de código abierto como spaCy o AllenNLP y publicando modelos pre-entrenados en Hugging Face como el reciente Selectra.\""
   ]
  },
  {
   "cell_type": "code",
   "execution_count": null,
   "id": "c452c02b-d109-4815-bc70-6fb86d1d15d5",
   "metadata": {},
   "outputs": [],
   "source": [
    "import spacy\n",
    "\n",
    "nlp = spacy.load(\"es_core_news_md\")\n",
    "nlp = rb.monitor(task_model=nlp, dataset=\"hola\", sample_rate=1.0)"
   ]
  },
  {
   "cell_type": "code",
   "execution_count": null,
   "id": "0611f319-8aa1-45d9-9fe2-b047d7c1893f",
   "metadata": {},
   "outputs": [],
   "source": [
    "nlp(texto)"
   ]
  },
  {
   "cell_type": "code",
   "execution_count": null,
   "id": "66a5928b-f676-471d-8c15-4839709c5c04",
   "metadata": {},
   "outputs": [],
   "source": [
    "from transformers import pipeline\n",
    "\n",
    "nlp = pipeline(\"zero-shot-classification\", model=\"Recognai/zeroshot_selectra_medium\")\n",
    "nlp = rb.monitor(task_model=nlp, dataset=\"charla_textcat\", sample_rate=1.0)"
   ]
  },
  {
   "cell_type": "code",
   "execution_count": null,
   "id": "ac829450-8c10-45a6-9dff-7f13efc1ec54",
   "metadata": {},
   "outputs": [],
   "source": [
    "nlp(texto, candidate_labels=[\"tecnología\", \"cultura\", \"educación\", \"sociedad\", \"política\"])"
   ]
  },
  {
   "cell_type": "code",
   "execution_count": null,
   "id": "27fa6e50-8450-4554-8164-19730088deda",
   "metadata": {},
   "outputs": [],
   "source": [
    "record = rb.Text2TextRecord(\n",
    "    text=texto,\n",
    "    prediction=[(\"Rubrix es una herramienta Python\", 0.8)]\n",
    ")\n",
    "rb.log(record, name=\"charla_textsum\")"
   ]
  }
 ],
 "metadata": {
  "kernelspec": {
   "display_name": "Python 3",
   "language": "python",
   "name": "python3"
  },
  "language_info": {
   "codemirror_mode": {
    "name": "ipython",
    "version": 3
   },
   "file_extension": ".py",
   "mimetype": "text/x-python",
   "name": "python",
   "nbconvert_exporter": "python",
   "pygments_lexer": "ipython3",
   "version": "3.8.5"
  }
 },
 "nbformat": 4,
 "nbformat_minor": 5
}
