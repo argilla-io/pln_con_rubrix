{
 "cells": [
  {
   "cell_type": "markdown",
   "id": "5e34ab08-3474-49b9-ba05-0e867ea15f42",
   "metadata": {},
   "source": [
    "# **Caso práctico 3: Resúmenes automáticos**"
   ]
  },
  {
   "cell_type": "markdown",
   "id": "eed803c2-15f3-4a39-9a76-ded1b6dadbce",
   "metadata": {},
   "source": [
    "## Revisión de datos de entrenamiento"
   ]
  },
  {
   "cell_type": "code",
   "execution_count": 4,
   "id": "6c6df85b-5273-456f-8c4c-fd328298c376",
   "metadata": {},
   "outputs": [
    {
     "name": "stderr",
     "output_type": "stream",
     "text": [
      "Reusing dataset mlsum (/Users/dani/.cache/huggingface/datasets/mlsum/es/1.0.0/77f23eb185781f439927ac2569ab1da1083195d8b2dab2b2f6bbe52feb600688)\n"
     ]
    }
   ],
   "source": [
    "import rubrix as rb\n",
    "\n",
    "from datasets import load_dataset\n",
    "\n",
    "dataset = load_dataset(\"mlsum\", \"es\", split=\"test\")"
   ]
  },
  {
   "cell_type": "code",
   "execution_count": 5,
   "id": "e4693a11-0ef4-401d-982f-091dcbe838cb",
   "metadata": {},
   "outputs": [
    {
     "data": {
      "text/plain": [
       "13920"
      ]
     },
     "execution_count": 5,
     "metadata": {},
     "output_type": "execute_result"
    }
   ],
   "source": [
    "records = [\n",
    "    rb.Text2TextRecord(\n",
    "        text=noticia[\"text\"],\n",
    "        annotation=noticia[\"summary\"],\n",
    "        metadata={\n",
    "            \"summary_len\": len(noticia[\"summary\"]), \n",
    "            \"text_len\": len(noticia[\"text\"])\n",
    "        }\n",
    "    )\n",
    "    for noticia in dataset\n",
    "] ; len(records)"
   ]
  },
  {
   "cell_type": "code",
   "execution_count": 7,
   "id": "f60c156b-cfef-4af6-a9be-7cd746a90da3",
   "metadata": {},
   "outputs": [
    {
     "data": {
      "application/vnd.jupyter.widget-view+json": {
       "model_id": "4f54221704ee4aa4a4e38c5fd84b30ea",
       "version_major": 2,
       "version_minor": 0
      },
      "text/plain": [
       "  0%|          | 0/13920 [00:00<?, ?it/s]"
      ]
     },
     "metadata": {},
     "output_type": "display_data"
    },
    {
     "name": "stdout",
     "output_type": "stream",
     "text": [
      "13920 records logged to http://localhost:6900/noticias_en_es_resumenes\n"
     ]
    },
    {
     "data": {
      "text/plain": [
       "BulkResponse(dataset='noticias_en_es_resumenes', processed=13920, failed=0)"
      ]
     },
     "execution_count": 7,
     "metadata": {},
     "output_type": "execute_result"
    }
   ],
   "source": [
    "rb.log(records, name=\"noticias_en_es_resumenes\")"
   ]
  }
 ],
 "metadata": {
  "kernelspec": {
   "display_name": "Python 3",
   "language": "python",
   "name": "python3"
  },
  "language_info": {
   "codemirror_mode": {
    "name": "ipython",
    "version": 3
   },
   "file_extension": ".py",
   "mimetype": "text/x-python",
   "name": "python",
   "nbconvert_exporter": "python",
   "pygments_lexer": "ipython3",
   "version": "3.8.5"
  }
 },
 "nbformat": 4,
 "nbformat_minor": 5
}
