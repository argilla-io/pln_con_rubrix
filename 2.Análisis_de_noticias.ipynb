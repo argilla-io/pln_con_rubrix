{
 "cells": [
  {
   "cell_type": "markdown",
   "id": "2ecab6ff-dc62-4229-b951-56caaadbc0cc",
   "metadata": {},
   "source": [
    "# **Caso práctico 2: Análisis de noticias**"
   ]
  },
  {
   "cell_type": "markdown",
   "id": "1e6c06dc-1af5-4611-b6f8-a2e483e14a7a",
   "metadata": {},
   "source": [
    "## 1. Análisis de sentimiento"
   ]
  },
  {
   "cell_type": "code",
   "execution_count": null,
   "id": "4671ac36-8412-44ae-9f90-2088297fbc59",
   "metadata": {},
   "outputs": [],
   "source": [
    "from datasets import load_dataset\n",
    "\n",
    "from transformers import pipeline\n",
    "\n",
    "classifier = pipeline(\n",
    "    \"text-classification\", \n",
    "    model=\"finiteautomata/beto-sentiment-analysis\", \n",
    "    return_all_scores=True,\n",
    "    truncation=True,\n",
    "    padding=True\n",
    ")\n",
    "\n",
    "classifier = rb.monitor(classifier, dataset=\"noticias_en_es\", sample_rate=1.0)\n",
    "\n",
    "dataset = load_dataset(\"mlsum\", \"es\", split=\"test[0:500]\")"
   ]
  },
  {
   "cell_type": "code",
   "execution_count": null,
   "id": "a3cdb423-0fbf-493b-9d10-d936da4ac2ea",
   "metadata": {
    "scrolled": true,
    "tags": []
   },
   "outputs": [],
   "source": [
    "dataset.map(\n",
    "    lambda r: {\"prediction\": classifier(r[\"summary\"])},\n",
    "    batched=True,\n",
    "    batch_size=32\n",
    ")"
   ]
  },
  {
   "cell_type": "markdown",
   "id": "2facda74-71d1-480c-90aa-a5f288c64a59",
   "metadata": {},
   "source": [
    "## 2. Categorización de texto (zero-shot)"
   ]
  },
  {
   "cell_type": "code",
   "execution_count": null,
   "id": "55f0221d-c93a-43e9-b8f8-bade0ae3e8fb",
   "metadata": {},
   "outputs": [],
   "source": [
    "classifier = pipeline(\"zero-shot-classification\", \n",
    "                       model=\"Recognai/zeroshot_selectra_medium\")\n",
    "\n",
    "labels = [\"política\", \"cultura\", \"sociedad\", \"economia\", \"deportes\", \"ciencia y tecnología\"]\n",
    "template = \"Esta noticia habla de {}.\""
   ]
  },
  {
   "cell_type": "code",
   "execution_count": null,
   "id": "9d285669-ea83-4aaa-99e1-d36ce47dc7c2",
   "metadata": {},
   "outputs": [],
   "source": [
    "classifier = rb.monitor(classifier, dataset=\"noticias_en_es_categorias\", sample_rate=1.0)"
   ]
  },
  {
   "cell_type": "code",
   "execution_count": null,
   "id": "8d65fdcc-cca8-48aa-b2a8-f4d3fe262637",
   "metadata": {
    "scrolled": true,
    "tags": []
   },
   "outputs": [],
   "source": [
    "dataset.map(\n",
    "    lambda r: {\"prediction\": classifier(r[\"summary\"], candidate_labels=labels, hypothesis_template=template)},\n",
    "    batched=True, \n",
    "    batch_size=8\n",
    ")"
   ]
  },
  {
   "cell_type": "markdown",
   "id": "e733898b-2ab1-404c-9df2-0e3de27b7129",
   "metadata": {},
   "source": [
    "## 3. Categorización de texto (etiquetado programático usando weak supervision)\n",
    "\n",
    "![Labeling workflow](https://raw.githubusercontent.com/recognai/rubrix-materials/main/tutorials/weak_supervision/weak_supervision.svg \"Labeling workflow\")"
   ]
  },
  {
   "cell_type": "code",
   "execution_count": null,
   "id": "21a9a11a-60af-4730-8324-8c36fc054614",
   "metadata": {},
   "outputs": [],
   "source": [
    "import pandas as pd\n",
    "\n",
    "crisol = pd.read_csv(\"datos/crisol.csv\", sep=\";\", names=[\"termino\", \"polaridad\"]) ; crisol.head()"
   ]
  },
  {
   "cell_type": "code",
   "execution_count": null,
   "id": "982264b1-0c42-43ee-90a2-4b08c0261017",
   "metadata": {},
   "outputs": [],
   "source": [
    "crisol.polaridad.hist()"
   ]
  },
  {
   "cell_type": "code",
   "execution_count": null,
   "id": "f5058c44-c413-494e-a500-106477fa0ca7",
   "metadata": {},
   "outputs": [],
   "source": [
    "crisol = crisol.sample(frac=1.0,)"
   ]
  },
  {
   "cell_type": "code",
   "execution_count": null,
   "id": "138b63d7-3c55-41c4-8f2f-9a2c34e84a85",
   "metadata": {},
   "outputs": [],
   "source": [
    "from datasets import load_dataset\n",
    "\n",
    "noticias = load_dataset(\"mlsum\", \"es\", split=\"train[0:10000]\")\n",
    "records = [\n",
    "    rb.TextClassificationRecord(\n",
    "        inputs=noticia[\"summary\"],\n",
    "    )\n",
    "    for noticia in noticias\n",
    "] ; len(records)"
   ]
  },
  {
   "cell_type": "code",
   "execution_count": null,
   "id": "7a5ff3fb-b917-4024-a2d4-d5443df62d6a",
   "metadata": {},
   "outputs": [],
   "source": [
    "rb.delete(name=\"noticias_en_es_weak_supervision\")\n",
    "rb.log(records, name=\"noticias_en_es_weak_supervision\")"
   ]
  },
  {
   "cell_type": "code",
   "execution_count": null,
   "id": "d1959829-ed3b-499e-818f-6454a7cbde74",
   "metadata": {},
   "outputs": [],
   "source": [
    "from rubrix.labeling.text_classification import Rule, WeakLabels\n",
    "\n",
    "terminos_positivos = crisol.query(\"polaridad == 'positive'\")[0:1000].values\n",
    "terminos_negativos = crisol.query(\"polaridad == 'negative'\")[0:2000].values"
   ]
  },
  {
   "cell_type": "code",
   "execution_count": null,
   "id": "c875ff62-b0e0-476a-801f-ac9054cdd143",
   "metadata": {},
   "outputs": [],
   "source": [
    "rules = []\n",
    "\n",
    "for termino, polaridad in terminos_positivos:\n",
    "    rules.append(\n",
    "        Rule(query=f\"{termino}\", label=\"Positivo\")\n",
    "    )\n",
    "    \n",
    "for termino, polaridad in terminos_negativos:\n",
    "    rules.append(\n",
    "        Rule(query=f\"{termino}\", label=\"Negativo\")\n",
    "    )"
   ]
  },
  {
   "cell_type": "code",
   "execution_count": null,
   "id": "2632a917-fcd5-4e77-bd89-414d8a19d856",
   "metadata": {},
   "outputs": [],
   "source": [
    "weak_labels = WeakLabels(rules=rules, dataset=\"noticias_en_es_weak_supervision\")"
   ]
  },
  {
   "cell_type": "code",
   "execution_count": null,
   "id": "bd1b4cb7-c09a-4733-be71-9ca33026548e",
   "metadata": {},
   "outputs": [],
   "source": [
    "weak_labels.summary()"
   ]
  },
  {
   "cell_type": "code",
   "execution_count": null,
   "id": "03e5443a-debc-4e88-9837-f11bfb6369ad",
   "metadata": {},
   "outputs": [],
   "source": [
    "from snorkel.labeling.model import LabelModel\n",
    "\n",
    "# train our label model\n",
    "label_model = LabelModel()\n",
    "label_model.fit(L_train=weak_labels.matrix(has_annotation=False))\n",
    "\n",
    "# check its performance\n",
    "#label_model.score(L=weak_labels.matrix(has_annotation=True), Y=weak_labels.annotation())"
   ]
  },
  {
   "cell_type": "code",
   "execution_count": null,
   "id": "a0653751-6bdf-4421-aeb2-dd920ffa4fea",
   "metadata": {},
   "outputs": [],
   "source": [
    "# Get the part of the weak label matrix that has no corresponding annotation\n",
    "train_matrix = weak_labels.matrix(has_annotation=False)\n",
    "\n",
    "# Get predictions from our label model\n",
    "predictions = label_model.predict_proba(L=train_matrix)\n",
    "predicted_labels = label_model.predict(L=train_matrix)\n",
    "\n",
    "preds = [[('Positivo', pred[0]), ('Negativo', pred[1])] for pred in predictions]\n",
    "\n",
    "# Get the records that do not have an annotation\n",
    "train_records = weak_labels.records(has_annotation=False)\n",
    "\n",
    "# Add the predictions to the records\n",
    "def add_prediction(record, prediction):\n",
    "    record.prediction = prediction\n",
    "    return record\n",
    "\n",
    "train_records_with_lm_prediction = [\n",
    "    add_prediction(rec, pred)\n",
    "    for rec, pred, label in zip(train_records, preds, predicted_labels)\n",
    "    if label != weak_labels.label2int[None] # exclude records where the label model abstains\n",
    "]\n",
    "\n",
    "# Log a new dataset to Rubrix\n",
    "rb.delete(name=\"noticias_en_es_snorkel\")\n",
    "rb.log(train_records_with_lm_prediction, name=\"noticias_en_es_snorkel\")"
   ]
  },
  {
   "cell_type": "markdown",
   "id": "3dbbab61-2d21-4043-a2e5-bd2e52b9a26a",
   "metadata": {},
   "source": [
    "## 4. Reconocimiento de entidades"
   ]
  },
  {
   "cell_type": "code",
   "execution_count": null,
   "id": "0e45c8f6-d369-4665-bbf8-b2056fa71ee3",
   "metadata": {},
   "outputs": [],
   "source": [
    "import spacy\n",
    "import rubrix as rb\n",
    "\n",
    "from datasets import load_dataset\n",
    "\n",
    "nlp = spacy.load(\"es_core_news_md\")\n",
    "nlp = rb.monitor(nlp, dataset=\"noticias_en_es_ner\", sample_rate=1.0)\n",
    "\n",
    "dataset = load_dataset(\"mlsum\", \"es\", split=\"test[10000:]\")"
   ]
  },
  {
   "cell_type": "code",
   "execution_count": null,
   "id": "cd6e9838-63ac-44e1-88e1-8d949a0e01b4",
   "metadata": {
    "scrolled": true,
    "tags": []
   },
   "outputs": [],
   "source": [
    "def extract_entities(record):\n",
    "    docs = nlp.pipe(record[\"summary\"])\n",
    "    return {\"processed\": [doc.text for doc in docs]}\n",
    "\n",
    "dataset.map(\n",
    "    extract_entities,\n",
    "    batched=True, \n",
    "    batch_size=32\n",
    ")"
   ]
  },
  {
   "cell_type": "code",
   "execution_count": null,
   "id": "a264cfad-8e9f-45e9-a0a7-e289ce9dcd29",
   "metadata": {},
   "outputs": [],
   "source": [
    "from rubrix.metrics.token_classification import *"
   ]
  },
  {
   "cell_type": "code",
   "execution_count": null,
   "id": "45bfd596-cec2-45c0-958c-a6faf1eda147",
   "metadata": {},
   "outputs": [],
   "source": [
    "entity_consistency(name=\"noticias_en_es_ner\", mentions=100).visualize()"
   ]
  },
  {
   "cell_type": "code",
   "execution_count": null,
   "id": "a35406c6-a514-4d1f-adf1-283c2fc75f8b",
   "metadata": {},
   "outputs": [],
   "source": [
    "entity_labels(name=\"noticias_en_es_ner\").visualize()"
   ]
  }
 ],
 "metadata": {
  "kernelspec": {
   "display_name": "Python 3",
   "language": "python",
   "name": "python3"
  },
  "language_info": {
   "codemirror_mode": {
    "name": "ipython",
    "version": 3
   },
   "file_extension": ".py",
   "mimetype": "text/x-python",
   "name": "python",
   "nbconvert_exporter": "python",
   "pygments_lexer": "ipython3",
   "version": "3.8.5"
  }
 },
 "nbformat": 4,
 "nbformat_minor": 5
}
